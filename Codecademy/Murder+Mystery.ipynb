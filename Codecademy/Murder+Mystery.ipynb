{
 "cells": [
  {
   "cell_type": "markdown",
   "metadata": {},
   "source": [
    "# Preamble: A Brand new Jay\n",
    "\n",
    "After an eventful season on season 8 of *A Brand New Jay*, the 3 remaining contestants were invited to Jay Stacksby's private island for the last three episodes. When the day of filming the finale came Mr. Stacksby was found with one of his Professional Series 8-inch Chef Knives plunged through his heart! After the initial investigation highlighted that the film crew all lived in a separate house on the other side of the island, it was concluded that only the three contestants were near enough to Stacksby in order to commit a crime. At the scene of the crime, a letter was left. Here are the contents of that letter:\n",
    "\n",
    "> You may call me heartless, a killer, a monster, a murderer, but I'm still NOTHING compared to the villian that Jay was. This whole contest was a sham, an elaborate plot to shame the contestants and feed Jay's massive, massive ego. SURE you think you know him! You've seen him smiling for the cameras, laughing, joking, telling stories, waving his money around like a prop but off camera he was a sinister beast, a cruel cruel taskmaster, he treated all of us like slaves, like cattle, like animals! Do you remember Lindsay, she was the first to go, he called her such horrible things that she cried all night, keeping up all up, crying, crying, and more crying, he broke her with his words. I miss my former cast members, all of them very much. And we had to live with him, live in his home, live in his power, deal with his crazy demands. AND FOR WHAT?! DID YOU KNOW THAT THE PRIZE ISN'T REAL? He never intended to marry one of us! The carrot on the stick was gone, all that was left was stick, he told us last night that we were all a terrible terrible disappointment and none of us would ever amount to anything, and that regardless of who won the contest he would never speak to any of us again! It's definitely the things like this you can feel in your gut how wrong he is! Well I showed him, he got what he deserved all right, I showed him, I showed him the person I am! I wasn't going to be pushed around any longer, and I wasn't going to let him go on pretending that he was some saint when all he was was a sick sick twisted man who deserved every bit of what he got. The fans need to know, Jay Stacksby is a vile amalgamation of all things evil and bad and the world is a better place without him.\n",
    "\n",
    "Pretty sinister stuff! Luckily, in addition to this bold-faced admission, we have the introduction letters of the three contestants. Maybe there is a way to use this information to determine who the author of this murder letter is?\n",
    "\n",
    "Myrtle Beech's introduction letter:\n",
    "> Salutations. My name? Myrtle. Myrtle Beech. I am a woman of simple tastes. I enjoy reading, thinking, and doing my taxes. I entered this competition because I want a serious relationship. I want a commitment. The last man I dated was too whimsical. He wanted to go on dates that had no plan. No end goal. Sometimes we would just end up wandering the streets after dinner. He called it a \"walk\". A \"walk\" with no destination. Can you imagine? I like every action I take to have a measurable effect. When I see a movie, I like to walk away with insights that I did not have before. When I take a bike ride, there better be a worthy destination at the end of the bike path. Jay seems frivolous at times. This worries me. However, it is my staunch belief that one does not make and keep money without having a modicum of discipline. As such, I am hopeful. I will now list three things I cannot live without. Water. Emery boards. Dogs. Thank you for the opportunity to introduce myself. I look forward to the competition. \n",
    "\n",
    "Lily Trebuchet's introduction letter:\n",
    "> Hi, I'm Lily Trebuchet from East Egg, Long Island. I love cats, hiking, and curling up under a warm blanket with a book. So they gave this little questionnaire to use for our bios so lets get started. What are some of my least favorite household chores? Dishes, oh yes it's definitely the dishes, I just hate doing them, don't you? Who is your favorite actor and why? Hmm, that's a hard one, but I think recently I'll have to go with Michael B. Jordan, every bit of that man is handsome, HANDSOME! Do you remember seeing him shirtless? I can't believe what he does for the cameras! Okay okay next question, what is your perfect date? Well it starts with a nice dinner at a delicious but small restaurant, you know like one of those places where the owner is in the back and comes out to talk to you and ask you how your meal was. My favorite form of art? Another hard one, but I think I'll have to go with music, music you can feel in your whole body and it is electrifying and best of all, you can dance to it! Okay final question, let's see, What are three things you cannot live without? Well first off, my beautiful, beautiful cat Jerry, he is my heart and spirit animal. Second is pasta, definitely pasta, and the third I think is my family, I love all of them very much and they support me in everything I do. I know Jay Stacksby is a handsome man and all of us want to be the first to walk down the aisle with him, but I think he might truly be the one for me. Okay that's it for the bio, I hope you have fun watching the show! \n",
    "\n",
    "Gregg T. Fishy's introduction letter:\n",
    "\n",
    "> A most good day to you all, I am Gregg T. Fishy, of the Fishy Enterprise fortune. I am 37 years young, an adventurous spirit and I've never lost my sense of childlike wonder. I do love to be in the backyard gardening and I have the most extraordinary time when I'm fishing. Fishing for what, you might find yourself asking? Why, I happen to always be fishing for compliments of course! I have a stunning pair of radiant blue eyes that will pierce the soul of anyone who dare gaze upon my countenance. I quite enjoy going on long jaunts through garden paths and short walks through greenhouses. I hope that Jay will be as absolutely interesting as he appears on the television, I find that he has some of the most curious tastes in style and humor. When I'm out and about I quite enjoy hearing tales that instill in my heart of hearts the fascination that beguiles my every day life, every fiber of my being scintillates and vascillates with extreme pleasure during one of these charming anecdotes and significantly pleases my beautiful personage. I cannot wait to enjoy being on the television program A Jay To Remember, it certainly seems like a grand time to explore life and love."
   ]
  },
  {
   "cell_type": "markdown",
   "metadata": {},
   "source": [
    "## Saving The Different Examples as Variables\n",
    "\n",
    "First let's create variables to hold the text data in! Save the muder note as a string in a variable called `murder_note`. Save Lily Trebuchet's introduction into `lily_trebuchet_intro`. Save Myrtle Beech's introduction into `myrtle_beech_intro`. Save Gregg T. Fishy's introduction into `gregg_t_fishy_intro`."
   ]
  },
  {
   "cell_type": "code",
   "execution_count": 78,
   "metadata": {},
   "outputs": [],
   "source": [
    "murder_note = \"You may call me heartless, a killer, a monster, a murderer, but I'm still NOTHING compared to the villian that Jay was. This whole contest was a sham, an elaborate plot to shame the contestants and feed Jay's massive, massive ego. SURE you think you know him! You've seen him smiling for the cameras, laughing, joking, telling stories, waving his money around like a prop but off camera he was a sinister beast, a cruel cruel taskmaster, he treated all of us like slaves, like cattle, like animals! Do you remember Lindsay, she was the first to go, he called her such horrible things that she cried all night, keeping up all up, crying, crying, and more crying, he broke her with his words. I miss my former cast members, all of them very much. And we had to live with him, live in his home, live in his power, deal with his crazy demands. AND FOR WHAT?! DID YOU KNOW THAT THE PRIZE ISN'T REAL? He never intended to marry one of us! The carrot on the stick was gone, all that was left was stick, he told us last night that we were all a terrible terrible disappointment and none of us would ever amount to anything, and that regardless of who won the contest he would never speak to any of us again! It's definitely the things like this you can feel in your gut how wrong he is! Well I showed him, he got what he deserved all right, I showed him, I showed him the person I am! I wasn't going to be pushed around any longer, and I wasn't going to let him go on pretending that he was some saint when all he was was a sick sick twisted man who deserved every bit of what he got. The fans need to know, Jay Stacksby is a vile amalgamation of all things evil and bad and the world is a better place without him.\""
   ]
  },
  {
   "cell_type": "code",
   "execution_count": 79,
   "metadata": {},
   "outputs": [],
   "source": [
    "lily_trebuchet_intro = \"Hi, I'm Lily Trebuchet from East Egg, Long Island. I love cats, hiking, and curling up under a warm blanket with a book. So they gave this little questionnaire to use for our bios so lets get started. What are some of my least favorite household chores? Dishes, oh yes it's definitely the dishes, I just hate doing them, don't you? Who is your favorite actor and why? Hmm, that's a hard one, but I think recently I'll have to go with Michael B. Jordan, every bit of that man is handsome, HANDSOME! Do you remember seeing him shirtless? I can't believe what he does for the cameras! Okay okay next question, what is your perfect date? Well it starts with a nice dinner at a delicious but small restaurant, you know like one of those places where the owner is in the back and comes out to talk to you and ask you how your meal was. My favorite form of art? Another hard one, but I think I'll have to go with music, music you can feel in your whole body and it is electrifying and best of all, you can dance to it! Okay final question, let's see, What are three things you cannot live without? Well first off, my beautiful, beautiful cat Jerry, he is my heart and spirit animal. Second is pasta, definitely pasta, and the third I think is my family, I love all of them very much and they support me in everything I do. I know Jay Stacksby is a handsome man and all of us want to be the first to walk down the aisle with him, but I think he might truly be the one for me. Okay that's it for the bio, I hope you have fun watching the show!\""
   ]
  },
  {
   "cell_type": "code",
   "execution_count": 80,
   "metadata": {},
   "outputs": [],
   "source": [
    "myrtle_beech_intro = \"Salutations. My name? Myrtle. Myrtle Beech. I am a woman of simple tastes. I enjoy reading, thinking, and doing my taxes. I entered this competition because I want a serious relationship. I want a commitment. The last man I dated was too whimsical. He wanted to go on dates that had no plan. No end goal. Sometimes we would just end up wandering the streets after dinner. He called it a \\\"walk\\\". A \\\"walk\\\" with no destination. Can you imagine? I like every action I take to have a measurable effect. When I see a movie, I like to walk away with insights that I did not have before. When I take a bike ride, there better be a worthy destination at the end of the bike path. Jay seems frivolous at times. This worries me. However, it is my staunch belief that one does not make and keep money without having a modicum of discipline. As such, I am hopeful. I will now list three things I cannot live without. Water. Emery boards. Dogs. Thank you for the opportunity to introduce myself. I look forward to the competition.\""
   ]
  },
  {
   "cell_type": "code",
   "execution_count": 81,
   "metadata": {},
   "outputs": [],
   "source": [
    "gregg_t_fishy_intro = \"A most good day to you all, I am Gregg T. Fishy, of the Fishy Enterprise fortune. I am 37 years young, an adventurous spirit and I've never lost my sense of childlike wonder. I do love to be in the backyard gardening and I have the most extraordinary time when I'm fishing. Fishing for what, you might find yourself asking? Why, I happen to always be fishing for compliments of course! I have a stunning pair of radiant blue eyes that will pierce the soul of anyone who dare gaze upon my countenance. I quite enjoy going on long jaunts through garden paths and short walks through greenhouses. I hope that Jay will be as absolutely interesting as he appears on the television, I find that he has some of the most curious tastes in style and humor. When I'm out and about I quite enjoy hearing tales that instill in my heart of hearts the fascination that beguiles my every day life, every fiber of my being scintillates and vascillates with extreme pleasure during one of these charming anecdotes and significantly pleases my beautiful personage. I cannot wait to enjoy being on the television program A Jay To Remember, it certainly seems like a grand time to explore life and love.\""
   ]
  },
  {
   "cell_type": "markdown",
   "metadata": {},
   "source": [
    "## The First Indicator: Sentence Length\n",
    "\n",
    "Perhaps some meaningful data can first be gleaned from these text examples if we measure how long the average sentence length is. Different authors have different patterns of written speech, so this could be very useful in tracking down the killer.\n",
    "\n",
    "Write a function `get_average_sentence_length` that takes some `text` as an argument. This function should return the average length of a sentence in the text.\n",
    "\n",
    "Hint (highlight this hint in order to reveal it): \n",
    "<font color=\"white\">Use your knowledge of _string methods_ to create a list of all of the sentences in a text, called **sentences_in_text**. \n",
    "Further break up each **sentences_in_text** into a list of words and save the _length_ of that list of words to a new list that contains all the sentence lengths, called **sentence_lengths**. Take the average of all of the sentence lengths by adding them all together and dividing by the number of sentences (which should be the same as the length of the **sentence_lengths**).\n",
    "\n",
    "Remember sentences can end with more than one kind of punctuation, you might find it easiest to use **.replace()** so you only have to split on one punctuation mark. Remember **.replace()** doesn't modify the string itself, it returns a new string!</font>"
   ]
  },
  {
   "cell_type": "code",
   "execution_count": 82,
   "metadata": {},
   "outputs": [],
   "source": [
    "\n",
    "    \n",
    "def get_average_sentence_length(text):\n",
    "    new_text = text.replace(\"?!\", \".\").replace(\"?\", \".\").replace(\"!\", \".\")\n",
    "    sent_lst = new_text.split(\".\")\n",
    "    \n",
    "    wrd_lst = []\n",
    "    for sent in sent_lst:\n",
    "        sent = sent.strip(\" \")\n",
    "        wrd_lst.append(sent.split(\" \"))   \n",
    "    \n",
    "    sentence_lengths = []\n",
    "    for lst in wrd_lst:\n",
    "        sentence_lengths.append(len(lst))\n",
    "    num_of_words = 0\n",
    "    for num in sentence_lengths:\n",
    "        num_of_words += num\n",
    "    average_num_of_words = num_of_words / (len(sentence_lengths))\n",
    "        \n",
    "    \n",
    "    return int(average_num_of_words)\n",
    "\n",
    "        "
   ]
  },
  {
   "cell_type": "code",
   "execution_count": 83,
   "metadata": {},
   "outputs": [
    {
     "name": "stdout",
     "output_type": "stream",
     "text": [
      "20\n",
      "15\n",
      "6\n",
      "17\n"
     ]
    }
   ],
   "source": [
    "print(get_average_sentence_length(murder_note))\n",
    "print(get_average_sentence_length(lily_trebuchet_intro))\n",
    "print(get_average_sentence_length(myrtle_beech_intro))\n",
    "print(get_average_sentence_length(gregg_t_fishy_intro))\n"
   ]
  },
  {
   "cell_type": "markdown",
   "metadata": {},
   "source": [
    "## Creating The Definition for Our Model\n",
    "\n",
    "Now that we have a metric we want to save and data that is coupled with that metric, it might be time to create our data type. Let's define a class called `TextSample` with a constructor. The constructor should take two arguments: `text` and `author`. `text` should be saved as `self.raw_text`. Call `get_average_sentence_length` with the raw text and save it to `self.average_sentence_length`. You should save the author of the text as `self.author`.\n",
    "\n",
    "Additionally, define a string representation for the model. If you print a `TextSample` it should render:\n",
    " - The author's name\n",
    " - The average sentence length\n",
    " \n",
    "This will be your main class for the problem at hand. All later instruction to update `TextSample` should be done in the code block below. After updating `TextSample`, click on the `Cell` option in the Jupyter Notebook main menu above, then click `Run All` to rerun the cells from top to bottom. If you need to restart your Jupyter Notebook either run the cells below first or move the `TextSample` class definition & instantiation cells to the bottom."
   ]
  },
  {
   "cell_type": "code",
   "execution_count": 84,
   "metadata": {},
   "outputs": [],
   "source": [
    "class TextSample:\n",
    "    \n",
    "    def __init__(self, text, author):\n",
    "        self.raw_text = text\n",
    "        self.author = author\n",
    "        self.average_sentence_length = get_average_sentence_length(self.raw_text)\n",
    "        self.prepared_text = self.prepare_text(text)\n",
    "        self.word_count_frequency = build_frequency_table(self.prepared_text)\n",
    "        self.ngram_frequency = build_frequency_table(ngram_creator(self.prepared_text))\n",
    "        \n",
    "    def __repr__(self):\n",
    "        repr_line = \"The author's name: {author} \\nThe average sentence length: {length}\".format(author = self.author, length = self.average_sentence_length)\n",
    "        return repr_line\n",
    "        \n",
    "    def prepare_text(self, text):\n",
    "        punct_text = text.lower()\n",
    "        new_text = punct_text.replace(\"?!\", \"\").replace(\".\", \"\").replace(\",\", \"\").replace(\"?\", \"\").replace(\"!\", \"\")\n",
    "        wrd_lst = new_text.split(\" \")\n",
    "        return wrd_lst"
   ]
  },
  {
   "cell_type": "code",
   "execution_count": 85,
   "metadata": {},
   "outputs": [],
   "source": [
    "#print(TextSample(lily_trebuchet_intro, \"Lily\"))\n"
   ]
  },
  {
   "cell_type": "markdown",
   "metadata": {},
   "source": [
    "### Creating our TextSample Instances\n",
    "\n",
    "Now create a `TextSample` object for each of the samples of text that we have.\n",
    " - `murderer_sample` for the murderer's note.\n",
    " - `lily_sample` for Lily Trebuchet's note.\n",
    " - `myrtle_sample` for Myrtle Beech's note.\n",
    " - `gregg_sample` for Gregg T. Fishy's note.\n",
    " \n",
    "Print out each one after instantiating them."
   ]
  },
  {
   "cell_type": "code",
   "execution_count": 86,
   "metadata": {},
   "outputs": [
    {
     "name": "stdout",
     "output_type": "stream",
     "text": [
      "The author's name: murderer \n",
      "The average sentence length: 20\n",
      "The author's name: Lily Trebuchet \n",
      "The average sentence length: 15\n",
      "The author's name: Myrtle Beech \n",
      "The average sentence length: 6\n",
      "The author's name: Gregg T. Fishy \n",
      "The average sentence length: 17\n"
     ]
    }
   ],
   "source": [
    "murderer_sample = TextSample(murder_note, \"murderer\")\n",
    "lily_sample = TextSample(lily_trebuchet_intro, \"Lily Trebuchet\")\n",
    "myrtle_sample = TextSample(myrtle_beech_intro, \"Myrtle Beech\")\n",
    "gregg_sample = TextSample(gregg_t_fishy_intro, \"Gregg T. Fishy\")\n",
    "\n",
    "print(murderer_sample)\n",
    "print(lily_sample)\n",
    "print(myrtle_sample)\n",
    "print(gregg_sample)"
   ]
  },
  {
   "cell_type": "markdown",
   "metadata": {},
   "source": [
    "## Cleaning Our Data\n",
    "\n",
    "We want to compare the word choice and usage between the samples, but sentences make our text data fairly messy. In order to analyze the different messages fairly, we'll need to remove all the punctuation and uppercase letters from the samples.\n",
    "\n",
    "Create a function called `prepare_text` that takes a single parameter `text`, makes the text entirely lowercase, removes all the punctuation and returns a list of the words in the text in order.\n",
    "\n",
    "For example: `\"Where did you go, friend? We nearly saw each other.\"` would become `['where', 'did', 'you', 'go', 'friend', 'we', 'nearly', 'saw', 'each', 'other']`."
   ]
  },
  {
   "cell_type": "code",
   "execution_count": 87,
   "metadata": {},
   "outputs": [
    {
     "name": "stdout",
     "output_type": "stream",
     "text": [
      "['a', 'most', 'good', 'day', 'to', 'you', 'all', 'i', 'am', 'gregg', 't', 'fishy', 'of', 'the', 'fishy', 'enterprise', 'fortune', 'i', 'am', '37', 'years', 'young', 'an', 'adventurous', 'spirit', 'and', \"i've\", 'never', 'lost', 'my', 'sense', 'of', 'childlike', 'wonder', 'i', 'do', 'love', 'to', 'be', 'in', 'the', 'backyard', 'gardening', 'and', 'i', 'have', 'the', 'most', 'extraordinary', 'time', 'when', \"i'm\", 'fishing', 'fishing', 'for', 'what', 'you', 'might', 'find', 'yourself', 'asking', 'why', 'i', 'happen', 'to', 'always', 'be', 'fishing', 'for', 'compliments', 'of', 'course', 'i', 'have', 'a', 'stunning', 'pair', 'of', 'radiant', 'blue', 'eyes', 'that', 'will', 'pierce', 'the', 'soul', 'of', 'anyone', 'who', 'dare', 'gaze', 'upon', 'my', 'countenance', 'i', 'quite', 'enjoy', 'going', 'on', 'long', 'jaunts', 'through', 'garden', 'paths', 'and', 'short', 'walks', 'through', 'greenhouses', 'i', 'hope', 'that', 'jay', 'will', 'be', 'as', 'absolutely', 'interesting', 'as', 'he', 'appears', 'on', 'the', 'television', 'i', 'find', 'that', 'he', 'has', 'some', 'of', 'the', 'most', 'curious', 'tastes', 'in', 'style', 'and', 'humor', 'when', \"i'm\", 'out', 'and', 'about', 'i', 'quite', 'enjoy', 'hearing', 'tales', 'that', 'instill', 'in', 'my', 'heart', 'of', 'hearts', 'the', 'fascination', 'that', 'beguiles', 'my', 'every', 'day', 'life', 'every', 'fiber', 'of', 'my', 'being', 'scintillates', 'and', 'vascillates', 'with', 'extreme', 'pleasure', 'during', 'one', 'of', 'these', 'charming', 'anecdotes', 'and', 'significantly', 'pleases', 'my', 'beautiful', 'personage', 'i', 'cannot', 'wait', 'to', 'enjoy', 'being', 'on', 'the', 'television', 'program', 'a', 'jay', 'to', 'remember', 'it', 'certainly', 'seems', 'like', 'a', 'grand', 'time', 'to', 'explore', 'life', 'and', 'love']\n"
     ]
    }
   ],
   "source": [
    "print(gregg_sample.prepared_text)"
   ]
  },
  {
   "cell_type": "markdown",
   "metadata": {},
   "source": [
    "Update the constructor for `TextSample` to save the prepared text as `self.prepared_text`."
   ]
  },
  {
   "cell_type": "markdown",
   "metadata": {},
   "source": [
    "## Building A Frequency Table\n",
    "\n",
    "Now we want to see which words were most frequently used in each of the samples. Create a function called `build_frequency_table`. It takes in a list called `corpus` and creates a dictionary called `frequency_table`. For every element in `corpus` the value `frequency_table[element]` should be equal to the number of times that element appears in `corpus`. For example the input `['do', 'you', 'see', 'what', 'i', 'see']` would create the frequency table `{'what': 1, 'you': 1, 'see' 2, 'i': 1}`."
   ]
  },
  {
   "cell_type": "code",
   "execution_count": 88,
   "metadata": {},
   "outputs": [],
   "source": [
    "def build_frequency_table(corpus):\n",
    "    frequency_table = {}\n",
    "    for word in corpus:\n",
    "        x = 0\n",
    "        if not word in frequency_table.keys():\n",
    "            x = corpus.count(word)\n",
    "            frequency_table[word] = x\n",
    "    return frequency_table"
   ]
  },
  {
   "cell_type": "code",
   "execution_count": 89,
   "metadata": {},
   "outputs": [
    {
     "name": "stdout",
     "output_type": "stream",
     "text": [
      "177\n"
     ]
    }
   ],
   "source": [
    "#print(lily_sample.prepared_text)\n",
    "print(len(murderer_sample.word_count_frequency))"
   ]
  },
  {
   "cell_type": "markdown",
   "metadata": {},
   "source": [
    "## The Second Indicator: Favorite Words\n",
    "\n",
    "Use `build_frequency_table` with the prepared text to create a frequency table that counts how frequently all the words in each text sample appears. Call these functions in the constructor for `TextSample` and assign the word frequency table to a value called `self.word_count_frequency`."
   ]
  },
  {
   "cell_type": "markdown",
   "metadata": {},
   "source": [
    "## The Third Indicator: N-Grams\n",
    "\n",
    "An <a href='https://en.wikipedia.org/wiki/N-gram' target=\"_blank\">n-gram</a> is a text analysis technique used for pattern recognition and applicable throughout lingusitics. We're going to use n-grams to find who uses similar word-pairs to the murderer, and we think it's going to make our evidence strong enough to conclusively find the killer.\n",
    "\n",
    "Create a function called `ngram_creator` that takes a parameter `text_list`, a treated in-order list of the words in a text sample. `ngram_creator` should return a list of all adjacent pairs of words, styled as strings with a space in the center.\n",
    "\n",
    "For instance, calling `ngram_creator` with the input `['what', 'in', 'the', 'world', 'is', 'going', 'on']`\n",
    "Should produce the output `['what in', 'in the', 'the world', 'world is', 'is going', 'going on']`.\n",
    "\n",
    "These are two-word n-grams."
   ]
  },
  {
   "cell_type": "code",
   "execution_count": 90,
   "metadata": {},
   "outputs": [],
   "source": [
    "def ngram_creator (text_list):\n",
    "    pair_lst = []\n",
    "    for i in range(0, (len(text_list)-2)):\n",
    "            pair_lst.append(text_list[i] + \" \" + text_list[i+1])\n",
    "    return pair_lst\n",
    "    "
   ]
  },
  {
   "cell_type": "code",
   "execution_count": 91,
   "metadata": {},
   "outputs": [
    {
     "name": "stdout",
     "output_type": "stream",
     "text": [
      "{\"hi i'm\": 1, \"i'm lily\": 1, 'lily trebuchet': 1, 'trebuchet from': 1, 'from east': 1, 'east egg': 1, 'egg long': 1, 'long island': 1, 'island i': 1, 'i love': 2, 'love cats': 1, 'cats hiking': 1, 'hiking and': 1, 'and curling': 1, 'curling up': 1, 'up under': 1, 'under a': 1, 'a warm': 1, 'warm blanket': 1, 'blanket with': 1, 'with a': 2, 'a book': 1, 'book so': 1, 'so they': 1, 'they gave': 1, 'gave this': 1, 'this little': 1, 'little questionnaire': 1, 'questionnaire to': 1, 'to use': 1, 'use for': 1, 'for our': 1, 'our bios': 1, 'bios so': 1, 'so lets': 1, 'lets get': 1, 'get started': 1, 'started what': 1, 'what are': 2, 'are some': 1, 'some of': 1, 'of my': 1, 'my least': 1, 'least favorite': 1, 'favorite household': 1, 'household chores': 1, 'chores dishes': 1, 'dishes oh': 1, 'oh yes': 1, \"yes it's\": 1, \"it's definitely\": 1, 'definitely the': 1, 'the dishes': 1, 'dishes i': 1, 'i just': 1, 'just hate': 1, 'hate doing': 1, 'doing them': 1, \"them don't\": 1, \"don't you\": 1, 'you who': 1, 'who is': 1, 'is your': 2, 'your favorite': 1, 'favorite actor': 1, 'actor and': 1, 'and why': 1, 'why hmm': 1, \"hmm that's\": 1, \"that's a\": 1, 'a hard': 1, 'hard one': 2, 'one but': 2, 'but i': 3, 'i think': 4, 'think recently': 1, \"recently i'll\": 1, \"i'll have\": 2, 'have to': 2, 'to go': 2, 'go with': 2, 'with michael': 1, 'michael b': 1, 'b jordan': 1, 'jordan every': 1, 'every bit': 1, 'bit of': 1, 'of that': 1, 'that man': 1, 'man is': 1, 'is handsome': 1, 'handsome handsome': 1, 'handsome do': 1, 'do you': 1, 'you remember': 1, 'remember seeing': 1, 'seeing him': 1, 'him shirtless': 1, 'shirtless i': 1, \"i can't\": 1, \"can't believe\": 1, 'believe what': 1, 'what he': 1, 'he does': 1, 'does for': 1, 'for the': 2, 'the cameras': 1, 'cameras okay': 1, 'okay okay': 1, 'okay next': 1, 'next question': 1, 'question what': 1, 'what is': 1, 'your perfect': 1, 'perfect date': 1, 'date well': 1, 'well it': 1, 'it starts': 1, 'starts with': 1, 'a nice': 1, 'nice dinner': 1, 'dinner at': 1, 'at a': 1, 'a delicious': 1, 'delicious but': 1, 'but small': 1, 'small restaurant': 1, 'restaurant you': 1, 'you know': 1, 'know like': 1, 'like one': 1, 'one of': 1, 'of those': 1, 'those places': 1, 'places where': 1, 'where the': 1, 'the owner': 1, 'owner is': 1, 'is in': 1, 'in the': 1, 'the back': 1, 'back and': 1, 'and comes': 1, 'comes out': 1, 'out to': 1, 'to talk': 1, 'talk to': 1, 'to you': 1, 'you and': 1, 'and ask': 1, 'ask you': 1, 'you how': 1, 'how your': 1, 'your meal': 1, 'meal was': 1, 'was my': 1, 'my favorite': 1, 'favorite form': 1, 'form of': 1, 'of art': 1, 'art another': 1, 'another hard': 1, \"think i'll\": 1, 'with music': 1, 'music music': 1, 'music you': 1, 'you can': 2, 'can feel': 1, 'feel in': 1, 'in your': 1, 'your whole': 1, 'whole body': 1, 'body and': 1, 'and it': 1, 'it is': 1, 'is electrifying': 1, 'electrifying and': 1, 'and best': 1, 'best of': 1, 'of all': 1, 'all you': 1, 'can dance': 1, 'dance to': 1, 'to it': 1, 'it okay': 1, 'okay final': 1, 'final question': 1, \"question let's\": 1, \"let's see\": 1, 'see what': 1, 'are three': 1, 'three things': 1, 'things you': 1, 'you cannot': 1, 'cannot live': 1, 'live without': 1, 'without well': 1, 'well first': 1, 'first off': 1, 'off my': 1, 'my beautiful': 1, 'beautiful beautiful': 1, 'beautiful cat': 1, 'cat jerry': 1, 'jerry he': 1, 'he is': 1, 'is my': 2, 'my heart': 1, 'heart and': 1, 'and spirit': 1, 'spirit animal': 1, 'animal second': 1, 'second is': 1, 'is pasta': 1, 'pasta definitely': 1, 'definitely pasta': 1, 'pasta and': 1, 'and the': 1, 'the third': 1, 'third i': 1, 'think is': 1, 'my family': 1, 'family i': 1, 'love all': 1, 'all of': 2, 'of them': 1, 'them very': 1, 'very much': 1, 'much and': 1, 'and they': 1, 'they support': 1, 'support me': 1, 'me in': 1, 'in everything': 1, 'everything i': 1, 'i do': 1, 'do i': 1, 'i know': 1, 'know jay': 1, 'jay stacksby': 1, 'stacksby is': 1, 'is a': 1, 'a handsome': 1, 'handsome man': 1, 'man and': 1, 'and all': 1, 'of us': 1, 'us want': 1, 'want to': 1, 'to be': 1, 'be the': 2, 'the first': 1, 'first to': 1, 'to walk': 1, 'walk down': 1, 'down the': 1, 'the aisle': 1, 'aisle with': 1, 'with him': 1, 'him but': 1, 'think he': 1, 'he might': 1, 'might truly': 1, 'truly be': 1, 'the one': 1, 'one for': 1, 'for me': 1, 'me okay': 1, \"okay that's\": 1, \"that's it\": 1, 'it for': 1, 'the bio': 1, 'bio i': 1, 'i hope': 1, 'hope you': 1, 'you have': 1, 'have fun': 1, 'fun watching': 1, 'watching the': 1}\n"
     ]
    }
   ],
   "source": [
    "print(lily_sample.ngram_frequency)\n"
   ]
  },
  {
   "cell_type": "markdown",
   "metadata": {},
   "source": [
    "Use `ngram_creator` along with the prepared text to create a list of all the two-word ngrams in each `TextSample`. Use `build_frequency_table` to tabulate the frequency of each ngram. In the constructor for `TextSample` save this frequency table as `self.ngram_frequency`."
   ]
  },
  {
   "cell_type": "markdown",
   "metadata": {},
   "source": [
    "## Comparing Two Frequency Tables\n",
    "\n",
    "We want to know how similar two frequency tables are, let's write a function that computes the comparison between two frequency tables and scores them based on similarity.\n",
    "\n",
    "Write a function called `frequency_comparison` that takes two parameters, `table1` and `table2`. It should define two local variables, `appearances` and `mutual_appearances`. \n",
    "\n",
    "Iterate through `table1`'s keys and check if `table2` has the same key defined. If it is, compare the two values for the key -- the smaller value should get added to `mutual_appearances` and the larger should get added to `appearances`. If the key doesn't exist in `table2` the value for the key in `table1` should be added to `appearances`.\n",
    "\n",
    "Remember afterwards to iterate through all of `table2`'s keys that aren't in `table1` and add those to `appearances` as well.\n",
    "\n",
    "Return a frequency comparison score equal to the mutual appearances divided by the total appearances."
   ]
  },
  {
   "cell_type": "code",
   "execution_count": 92,
   "metadata": {},
   "outputs": [],
   "source": [
    "def frequency_comparison(table1, table2):\n",
    "    appearances = 0\n",
    "    mutual_appearances = 0\n",
    "    for key in table1:\n",
    "        if table2.get(key) != None:\n",
    "            if table1[key] >= table2[key]:\n",
    "                appearances += table1[key]\n",
    "                mutual_appearances += table2[key]\n",
    "            else:\n",
    "                appearances += table2[key]\n",
    "                mutual_appearances += table1[key]\n",
    "            table2.pop(key)\n",
    "        else:\n",
    "            appearances += table1[key]\n",
    "    for key in table2:\n",
    "        if table1.get(key) == None:\n",
    "            appearances += table2[key]\n",
    "\n",
    "    return (mutual_appearances/appearances)"
   ]
  },
  {
   "cell_type": "code",
   "execution_count": 94,
   "metadata": {},
   "outputs": [
    {
     "name": "stdout",
     "output_type": "stream",
     "text": [
      "0.01694915254237288\n"
     ]
    }
   ],
   "source": [
    "print(frequency_comparison(murderer_sample.ngram_frequency, gregg_sample.ngram_frequency))"
   ]
  },
  {
   "cell_type": "markdown",
   "metadata": {},
   "source": [
    "## Comparing Average Sentence Length\n",
    "\n",
    "In order to calculate the change between the average sentence lengths of two `TextSamples` we're going to use the formula for the percent difference.\n",
    "\n",
    "Write a function called `percent_difference` that returns the percent difference as calculated from the following formula:\n",
    "\n",
    "$$\\frac{|\\ value1 - value2\\ |}{\\frac{value1 + value2}{2}}$$\n",
    "\n",
    "In the numerator is the absolute value (use `abs()`) of the two values subtracted from each other. In the denominator is the average of the two values (value1 + value2 divided by two)."
   ]
  },
  {
   "cell_type": "code",
   "execution_count": 95,
   "metadata": {},
   "outputs": [],
   "source": [
    "def percent_difference(value1, value2):\n",
    "    x = abs(value1-value2)/((value1+value2)/2)\n",
    "    return x\n",
    "     "
   ]
  },
  {
   "cell_type": "code",
   "execution_count": 98,
   "metadata": {},
   "outputs": [
    {
     "name": "stdout",
     "output_type": "stream",
     "text": [
      "0.16216216216216217\n"
     ]
    }
   ],
   "source": [
    "print(percent_difference(murderer_sample.average_sentence_length, gregg_sample.average_sentence_length))"
   ]
  },
  {
   "cell_type": "markdown",
   "metadata": {},
   "source": [
    "## Scoring Similarity with All Three Indicators\n",
    "\n",
    "We want to figure out who did it, so let's use all three of the indicators we built to score text similarity. Define a function `find_text_similarity` that takes two `TextSample` arguments and returns a float between 0 and 1 where 0 means completely different and 1 means the same exact sample. You can evaluate the similarity by the following criteria:\n",
    "\n",
    "- Calculate the percent difference of their average sentence length using `percent_difference`. Save that into a variable called `sentence_length_difference`. Since we want to find how _similar_ the two passages are calculate the inverse of `sentence_length_difference` by using the formula `abs(1 - sentence_length_difference)`. Save that into a variable called `sentence_length_similarity`.\n",
    "- Calculate the difference between their word usage using `frequency_comparison` on both `TextSample`'s `word_count_frequency` attributes. Save that into a variable called `word_count_similarity`.\n",
    "- Calculate the difference between their two-word ngram using `frequency_table` on both `TextSample`'s `ngram_frequency` attributes. Save that into a variable called `ngram_similarity`.\n",
    "- Add all three similarities together and divide by 3."
   ]
  },
  {
   "cell_type": "code",
   "execution_count": 100,
   "metadata": {},
   "outputs": [],
   "source": [
    "def find_text_similarity(sample1, sample2):\n",
    "    \n",
    "   #1st indicator \n",
    "    sentence_length_difference = percent_difference(sample1.average_sentence_length, sample2.average_sentence_length) \n",
    "    sentence_length_similarity = abs(1 - sentence_length_difference)\n",
    "   #2nd indicator \n",
    "    word_count_similarity = frequency_comparison(sample1.word_count_frequency, sample2.word_count_frequency)\n",
    "   #3d indicator\n",
    "    ngram_similarity = frequency_comparison(sample1.ngram_frequency, sample2.ngram_frequency)\n",
    "    \n",
    "    average = (sentence_length_similarity + word_count_similarity + ngram_similarity)/3\n",
    "    \n",
    "    return average"
   ]
  },
  {
   "cell_type": "code",
   "execution_count": 112,
   "metadata": {},
   "outputs": [
    {
     "name": "stdout",
     "output_type": "stream",
     "text": [
      "0.025641025641025623\n"
     ]
    }
   ],
   "source": [
    "print(find_text_similarity(murderer_sample, myrtle_sample))"
   ]
  },
  {
   "cell_type": "markdown",
   "metadata": {},
   "source": [
    "## Rendering the Results\n",
    "\n",
    "We want to print out the results in a way that we can read! For each contestant on _A Brand New Jay_ print out the following:\n",
    "\n",
    "- Their name\n",
    "- Their similarity score to the murder letter"
   ]
  },
  {
   "cell_type": "code",
   "execution_count": 117,
   "metadata": {
    "scrolled": false
   },
   "outputs": [
    {
     "name": "stdout",
     "output_type": "stream",
     "text": [
      "Lily Trebuchet: \n",
      " the similarity score to the murder letter - 0.2380952380952381\n",
      "Myrtle Beech: \n",
      " the similarity score to the murder letter - 0.025641025641025623\n",
      "Gregg T. Fishy: \n",
      " the similarity score to the murder letter - 0.27927927927927926\n"
     ]
    }
   ],
   "source": [
    "print(\"Lily Trebuchet: \\n the similarity score to the murder letter - \" + str(find_text_similarity(murderer_sample, lily_sample)))\n",
    "print(\"Myrtle Beech: \\n the similarity score to the murder letter - \" + str(find_text_similarity(murderer_sample, myrtle_sample)))\n",
    "print(\"Gregg T. Fishy: \\n the similarity score to the murder letter - \" + str(find_text_similarity(murderer_sample, gregg_sample)))\n",
    "      "
   ]
  },
  {
   "cell_type": "markdown",
   "metadata": {},
   "source": [
    "# Who Dunnit?\n",
    "\n",
    "In the cell below, print the name of the person who killed Jay Stacksby."
   ]
  },
  {
   "cell_type": "code",
   "execution_count": 118,
   "metadata": {},
   "outputs": [
    {
     "name": "stdout",
     "output_type": "stream",
     "text": [
      "The killer is Gregg T. Fishy\n"
     ]
    }
   ],
   "source": [
    "print(\"The killer is Gregg T. Fishy\")"
   ]
  },
  {
   "cell_type": "code",
   "execution_count": null,
   "metadata": {},
   "outputs": [],
   "source": []
  }
 ],
 "metadata": {
  "kernelspec": {
   "display_name": "Python 3",
   "language": "python",
   "name": "python3"
  },
  "language_info": {
   "codemirror_mode": {
    "name": "ipython",
    "version": 3
   },
   "file_extension": ".py",
   "mimetype": "text/x-python",
   "name": "python",
   "nbconvert_exporter": "python",
   "pygments_lexer": "ipython3",
   "version": "3.6.5"
  }
 },
 "nbformat": 4,
 "nbformat_minor": 2
}
